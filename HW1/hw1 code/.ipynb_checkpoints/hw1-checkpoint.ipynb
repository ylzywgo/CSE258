{
 "cells": [
  {
   "cell_type": "markdown",
   "metadata": {},
   "source": [
    "# CSE HW1\n",
    "#### Yawen Zhao   A53280596"
   ]
  },
  {
   "cell_type": "code",
   "execution_count": 1,
   "metadata": {},
   "outputs": [
    {
     "name": "stdout",
     "output_type": "stream",
     "text": [
      "{'marketplace': 'US', 'customer_id': '24371595', 'review_id': 'R27ZP1F1CD0C3Y', 'product_id': 'B004LLIL5A', 'product_parent': '346014806', 'product_title': 'Amazon eGift Card - Celebrate', 'product_category': 'Gift Card', 'star_rating': 5, 'helpful_votes': 0, 'total_votes': 0, 'vine': 'N', 'verified_purchase': 'Y', 'review_headline': 'Five Stars', 'review_body': 'Great birthday gift for a young adult.', 'review_date': '2015-08-31\\n'}\n"
     ]
    }
   ],
   "source": [
    "import gzip\n",
    "path = \"./amazon_reviews_us_Gift_Card_v1_00.tsv.gz\"\n",
    "f = gzip.open(path, 'rt')\n",
    "dataset = []\n",
    "# Read the header:\n",
    "header = f.readline().strip().split('\\t')\n",
    "for line in f:\n",
    "    # Separate by tabs\n",
    "    line = line.split('\\t')\n",
    "    # Convert to key-value pairs\n",
    "    d = dict(zip(header, line))\n",
    "    # Convert strings to integers for some fields:\n",
    "    d['star_rating'] = int(d['star_rating'])\n",
    "    d['helpful_votes'] = int(d['helpful_votes'])\n",
    "    d['total_votes'] = int(d['total_votes'])\n",
    "    dataset.append(d)\n",
    "print(dataset[0])"
   ]
  },
  {
   "cell_type": "code",
   "execution_count": 2,
   "metadata": {},
   "outputs": [],
   "source": [
    "rating = []\n",
    "for i in range(5):\n",
    "    X = [d for d in dataset if d['star_rating'] == i + 1]\n",
    "    rating.append(len(X))"
   ]
  },
  {
   "cell_type": "markdown",
   "metadata": {},
   "source": [
    "1.\tThe distribution of ratings in the dataset is showing as following:"
   ]
  },
  {
   "cell_type": "code",
   "execution_count": 21,
   "metadata": {},
   "outputs": [
    {
     "data": {
      "image/png": "[encoded data removed]",
      "text/plain": [
       "<Figure size 432x288 with 1 Axes>"
      ]
     },
     "metadata": {
      "needs_background": "light"
     },
     "output_type": "display_data"
    }
   ],
   "source": [
    "import matplotlib.pyplot as plt\n",
    "\n",
    "plt.figure()\n",
    "bars = plt.bar(range(1, len(rating)+1), rating)\n",
    "plt.xlabel('Star Rating')\n",
    "plt.ylabel('Reviews Number')\n",
    "for bar in bars:\n",
    "    yval = bar.get_height()\n",
    "    plt.text(bar.get_x()+0.2, yval, yval)\n",
    "plt.show()\n"
   ]
  },
  {
   "cell_type": "code",
   "execution_count": 4,
   "metadata": {},
   "outputs": [],
   "source": [
    "import numpy\n",
    "\n",
    "def feature1(data):\n",
    "    feat = [1]\n",
    "    if data['verified_purchase'] == 'Y':\n",
    "        feat.append(1);\n",
    "    else:\n",
    "        feat.append(0);\n",
    "    feat.append(len(data['review_body']))\n",
    "    return feat\n",
    "\n",
    "def feature2(data):\n",
    "    feat = [1]\n",
    "    if data['verified_purchase'] == 'Y':\n",
    "        feat.append(1);\n",
    "    else:\n",
    "        feat.append(0);\n",
    "    return feat\n",
    "\n",
    "def get1Xy(dataset):\n",
    "    X = [feature1(d) for d in dataset]\n",
    "    y = [d['star_rating'] for d in dataset]\n",
    "    return X, y\n",
    "\n",
    "def get2Xy(dataset):\n",
    "    X = [feature2(d) for d in dataset]\n",
    "    y = [d['star_rating'] for d in dataset]\n",
    "    return X, y"
   ]
  },
  {
   "cell_type": "code",
   "execution_count": 5,
   "metadata": {},
   "outputs": [],
   "source": [
    "X, y = get1Xy(dataset)\n",
    "theta1, residuals1, rank1, s1 = numpy.linalg.lstsq(X,y)"
   ]
  },
  {
   "cell_type": "code",
   "execution_count": 6,
   "metadata": {},
   "outputs": [
    {
     "data": {
      "text/plain": [
       "array([  4.84461817e+00,   5.04148265e-02,  -1.24659895e-03])"
      ]
     },
     "execution_count": 6,
     "metadata": {},
     "output_type": "execute_result"
    }
   ],
   "source": [
    "theta1"
   ]
  },
  {
   "cell_type": "markdown",
   "metadata": {},
   "source": [
    "3. The value of $\\theta_0 = 4.84461817e+00,\\theta_1 = 5.04148265e-02,\\theta_2 = -1.24659895e-03$.\n",
    "   \n",
    "   $\\theta_0$ indicates the rating which is unverified and with no review body. $\\theta_1$ indicates as if the review is verified, the ratings will increase by 5.04148265e-02. If the review is unverified, the ratings will not increase. $\\theta_2$ indicates as if the review length is 1 character longer, the rating will decrease 1.24659895e-03. Conversely, if the review length is 1 character shorter, the rating will increase 1.24659895e-03."
   ]
  },
  {
   "cell_type": "code",
   "execution_count": 7,
   "metadata": {},
   "outputs": [],
   "source": [
    "X, y = get2Xy(dataset)\n",
    "theta2, residuals2, rank2, s2 = numpy.linalg.lstsq(X,y)"
   ]
  },
  {
   "cell_type": "code",
   "execution_count": 8,
   "metadata": {
    "scrolled": true
   },
   "outputs": [
    {
     "data": {
      "text/plain": [
       "array([ 4.57758356,  0.16852426])"
      ]
     },
     "execution_count": 8,
     "metadata": {},
     "output_type": "execute_result"
    }
   ],
   "source": [
    "theta2"
   ]
  },
  {
   "cell_type": "markdown",
   "metadata": {},
   "source": [
    "4. The value of $\\theta_0 = 4.57758356,\\theta_1 = 0.16852426$\n",
    "\n",
    "   $\\theta_0$ indicates the rating when the review is unverified. $\\theta_1$ indicates as if the review is verified, the ratings will increase by 0.16852426. Even though the coefficients represent the same feature, the model is being changed. As in question 3, the model of rating is represented not only by whether the rating is verified or not, but also represent by the length of the rating. Hence the model in question judge the rating in a different dimension and thus the coefficients are changes."
   ]
  },
  {
   "cell_type": "code",
   "execution_count": 9,
   "metadata": {},
   "outputs": [],
   "source": [
    "def splitData(dataset, percent):\n",
    "    size = len(dataset)\n",
    "    trainset = dataset[0 : int(size * percent)]\n",
    "    testset = dataset[int(size * percent + 1): size]\n",
    "    trainX, trainY = get2Xy(trainset)\n",
    "    testX, testY = get2Xy(testset)\n",
    "    return trainX, trainY, testX, testY"
   ]
  },
  {
   "cell_type": "code",
   "execution_count": 10,
   "metadata": {},
   "outputs": [],
   "source": [
    "def f(theta, X, y):\n",
    "  theta = numpy.matrix(theta).T\n",
    "  X = numpy.matrix(X)\n",
    "  y = numpy.matrix(y).T\n",
    "  diff = X*theta - y\n",
    "  diffSq = diff.T*diff\n",
    "  diffSqReg = diffSq / len(X)\n",
    "  return diffSqReg.flatten().tolist()[0]"
   ]
  },
  {
   "cell_type": "code",
   "execution_count": 11,
   "metadata": {},
   "outputs": [
    {
     "name": "stdout",
     "output_type": "stream",
     "text": [
      "[0.6557415620281448] [0.9714261885960263]\n"
     ]
    }
   ],
   "source": [
    "trainX, trainY, testX, testY = splitData(dataset, 0.9)\n",
    "theta, residuals, rank, s = numpy.linalg.lstsq(trainX,trainY)\n",
    "trainYexpect = (theta * trainX).sum(axis = 1)\n",
    "testYexpect = (theta * testX).sum(axis = 1)\n",
    "errortrain = f(theta, trainX, trainY)\n",
    "errortest = f(theta, testX, testY)\n",
    "print(errortrain, errortest)"
   ]
  },
  {
   "cell_type": "markdown",
   "metadata": {},
   "source": [
    "5.\tThe model’s MSE on training data is 0.6557415620281802. MSE on testing data is 0.9714261885960409."
   ]
  },
  {
   "cell_type": "code",
   "execution_count": 12,
   "metadata": {},
   "outputs": [
    {
     "name": "stdout",
     "output_type": "stream",
     "text": [
      "[ 4.24159021  0.51539028]\n",
      "4.73437080762007\n",
      "[ 4.17520661  0.57365726]\n",
      "4.7255835792862895\n",
      "[ 4.17248908  0.5911032 ]\n",
      "4.739379304176729\n",
      "[ 4.26117441  0.52080355]\n",
      "4.76204849582453\n",
      "[ 4.3159486   0.47102147]\n",
      "4.770250328673768\n",
      "[ 4.32080201  0.46678871]\n",
      "4.770933482392398\n",
      "[ 4.30258824  0.48596436]\n",
      "4.768761977769261\n",
      "[ 4.31482255  0.47483136]\n",
      "4.770583895093403\n",
      "[ 4.3244983   0.46809096]\n",
      "4.774162294300024\n",
      "[ 4.33368347  0.45442316]\n",
      "4.770696108286493\n",
      "[ 4.33039946  0.45238966]\n",
      "4.766491457004524\n",
      "[ 4.33430045  0.44009184]\n",
      "4.759130697253245\n",
      "[ 4.31461703  0.45065618]\n",
      "4.750033538001135\n",
      "[ 4.31936713  0.44290417]\n",
      "4.747786508240705\n",
      "[ 4.32141875  0.43898318]\n",
      "4.746123025739174\n",
      "[ 4.35384987  0.40728803]\n",
      "4.746989972163531\n",
      "[ 4.36104807  0.39868313]\n",
      "4.744482059294682\n",
      "[ 4.43657178  0.31944366]\n",
      "4.740626187796717\n",
      "[ 4.59653784  0.15858289]\n",
      "4.742055058567686\n"
     ]
    }
   ],
   "source": [
    "MSEtrain = []\n",
    "MSEtest = []\n",
    "for i in numpy.arange(0.05, 1, 0.05):\n",
    "    trainX, trainY, testX, testY = splitData(dataset, i)\n",
    "    theta, residuals, rank, s = numpy.linalg.lstsq(trainX,trainY)\n",
    "    trainYexpect = (theta * trainX).sum(axis = 1)\n",
    "    testYexpect = (theta * testX).sum(axis = 1)\n",
    "    errortrain = f(theta, trainX, trainY)\n",
    "    errortest = f(theta, testX, testY)\n",
    "#     cur = numpy.square(numpy.subtract(testY,testYexpect)).mean() \n",
    "    MSEtrain.append(errortrain)\n",
    "    MSEtest.append(errortest)\n",
    "    print(theta)\n",
    "    print(sum(trainY)/len(trainY))\n",
    "    "
   ]
  },
  {
   "cell_type": "code",
   "execution_count": 13,
   "metadata": {
    "scrolled": true
   },
   "outputs": [
    {
     "data": {
      "text/plain": [
       "<matplotlib.legend.Legend at 0x7fb0e9556b00>"
      ]
     },
     "execution_count": 13,
     "metadata": {},
     "output_type": "execute_result"
    },
    {
     "data": {
      "image/png": "[encoded data removed]",
      "text/plain": [
       "<Figure size 432x288 with 1 Axes>"
      ]
     },
     "metadata": {
      "needs_background": "light"
     },
     "output_type": "display_data"
    }
   ],
   "source": [
    "plt.plot(numpy.arange(0.05, 1, 0.05), MSEtrain, label=\"train\")\n",
    "plt.plot(numpy.arange(0.05, 1, 0.05), MSEtest, label=\"test\")\n",
    "plt.legend(loc='upper left')  "
   ]
  },
  {
   "cell_type": "markdown",
   "metadata": {},
   "source": [
    "7. The figure above shows the training and test error vary as a function of the training set size. The size of the training set makes a big difference of the testing performance. As the size of training set increases, the error rate of testing data increases. This is because that the data is not shuffled. According to the predictor, the prediction of the data will be very high, around 4.65. As more data shown in training set, the training model reaches a much higher average value. However, the review with less start rating and are not verified shows more on the end of the data, which will increase the MSE."
   ]
  },
  {
   "cell_type": "code",
   "execution_count": 14,
   "metadata": {},
   "outputs": [],
   "source": [
    "import random \n",
    "def feature(data):\n",
    "    feat = [1]\n",
    "    feat.append(data['star_rating'])\n",
    "    feat.append(len(data['review_body']))\n",
    "    feat.append(len(data['review_headline']))\n",
    "    return feat\n",
    "\n",
    "def res(data):\n",
    "    if (data['verified_purchase'] == 'Y'):\n",
    "        return 1\n",
    "    else:\n",
    "        return 0\n",
    "\n",
    "def getXy(dataset):\n",
    "    X = [feature(d) for d in dataset]\n",
    "    y = [res(d) for d in dataset]\n",
    "    return X, y\n",
    "\n",
    "def splitData(dataset, percent):\n",
    "    size = len(dataset)\n",
    "#     random.shuffle(dataset)\n",
    "    trainset = dataset[0 : int(size * percent)]\n",
    "    testset = dataset[int(size * percent + 1): size]\n",
    "    trainX, trainY = getXy(trainset)\n",
    "    testX, testY = getXy(testset)\n",
    "    return trainX, trainY, testX, testY"
   ]
  },
  {
   "cell_type": "code",
   "execution_count": 15,
   "metadata": {},
   "outputs": [],
   "source": [
    "from sklearn.linear_model import LogisticRegression\n",
    "\n",
    "trainX, trainY, testX, testY = splitData(dataset, 0.9)\n",
    "clf = LogisticRegression(solver='lbfgs').fit(trainX, trainY)"
   ]
  },
  {
   "cell_type": "code",
   "execution_count": 16,
   "metadata": {},
   "outputs": [
    {
     "name": "stdout",
     "output_type": "stream",
     "text": [
      "0.951608695976 0.55889455326\n"
     ]
    }
   ],
   "source": [
    "trainscore = clf.score(trainX, trainY)\n",
    "testscore = clf.score(testX, testY)\n",
    "print(trainscore, testscore)"
   ]
  },
  {
   "cell_type": "code",
   "execution_count": 17,
   "metadata": {
    "scrolled": true
   },
   "outputs": [
    {
     "name": "stdout",
     "output_type": "stream",
     "text": [
      "0.9125068752263794 0.99957742511\n",
      "0.9518248283983097 0.999649716419\n",
      "0.5586933190233432 0.998993828817\n"
     ]
    }
   ],
   "source": [
    "predict_train = clf.predict(trainX)\n",
    "predict_test = clf.predict(testX)\n",
    "verified_label = (sum(trainY) + sum(testY)) / len(dataset)\n",
    "verified_prediction = (sum(predict_train) + sum(predict_test)) / len(dataset)\n",
    "print(verified_label, verified_prediction)\n",
    "verified_label_train = sum(trainY) / len(trainY)\n",
    "verified_prediction_train = sum(predict_train) / len(trainY)\n",
    "print(verified_label_train, verified_prediction_train)\n",
    "verified_label_test = sum(testY) / len(testY)\n",
    "verified_prediction_test = sum(predict_test) / len(testY)\n",
    "print(verified_label_test, verified_prediction_test)"
   ]
  },
  {
   "cell_type": "markdown",
   "metadata": {},
   "source": [
    "8. \n",
    "The classification accuracy of the predictor on training dataset is 0.951608695976, that on testing dataset is 0.55889455326. \n",
    "\n",
    "The proportion of labels for all data that are positive is 0.9125068752263794. And the proportion of predictions for all data that are positive is 0.99957742511.\n",
    "\n",
    "The proportion of labels for train data that are positive is 0.9518248283983097. And the proportion of predictions for all data that are positive is 0.999649716419.\n",
    "\n",
    "The proportion of labels for test data that are positive is 0.5586933190233432. And the proportion of predictions for test data that are positive is 0.998993828817."
   ]
  },
  {
   "cell_type": "code",
   "execution_count": 18,
   "metadata": {},
   "outputs": [],
   "source": [
    "import random\n",
    "\n",
    "def feature_2(data):\n",
    "    feat = [1]\n",
    "    feat.append(data['star_rating'])\n",
    "    feat.append(len(data['review_body']))\n",
    "    feat.append(len(data['review_headline']))\n",
    "    feat.append(data['helpful_votes']);\n",
    "    feat.append(data['total_votes']);\n",
    "    return feat\n",
    "\n",
    "def res(data):\n",
    "    if (data['verified_purchase'] == 'Y'):\n",
    "        return 1\n",
    "    else:\n",
    "        return 0\n",
    "\n",
    "def getXy_2(dataset):\n",
    "    X = [feature_2(d) for d in dataset]\n",
    "    y = [res(d) for d in dataset]\n",
    "    return X, y\n",
    "\n",
    "def splitData_2(dataset, percent):\n",
    "    size = len(dataset)\n",
    "#     random.shuffle(dataset)\n",
    "    trainset = dataset[0 : int(size * percent)]\n",
    "    testset = dataset[int(size * percent + 1): size]\n",
    "    trainX, trainY = getXy_2(trainset)\n",
    "    testX, testY = getXy_2(testset)\n",
    "    return trainX, trainY, testX, testY\n",
    "\n",
    "def splitData_2(dataset, percent):\n",
    "    size = len(dataset)\n",
    "    random.shuffle(dataset)\n",
    "    trainset = dataset[0 : int(size * percent)]\n",
    "    testset = dataset[int(size * percent + 1): size]\n",
    "    trainX, trainY = getXy_2(trainset)\n",
    "    testX, testY = getXy_2(testset)\n",
    "    return trainX, trainY, testX, testY"
   ]
  },
  {
   "cell_type": "code",
   "execution_count": 19,
   "metadata": {},
   "outputs": [],
   "source": [
    "from sklearn.linear_model import LogisticRegression\n",
    "\n",
    "trainX2, trainY2, testX2, testY2 = splitData_2(dataset, 0.9)\n",
    "clf_2 = LogisticRegression(solver='lbfgs').fit(trainX2, trainY2)"
   ]
  },
  {
   "cell_type": "code",
   "execution_count": 20,
   "metadata": {},
   "outputs": [
    {
     "name": "stdout",
     "output_type": "stream",
     "text": [
      "0.910849102305 0.910316608532\n"
     ]
    }
   ],
   "source": [
    "trainscore2 = clf_2.score(trainX2, trainY2)\n",
    "testscore2 = clf_2.score(testX2, testY2)\n",
    "print(trainscore2, testscore2)"
   ]
  },
  {
   "cell_type": "markdown",
   "metadata": {},
   "source": [
    "9. The feature I design is \n",
    "\n",
    "$p$(review is verified)$ \\approx \\sigma (\\theta_0$ $ + \\theta_1 *$ [star rating] $ + \\theta_2 *$ [review length] $ + \\theta_3 *$ [review headline length] $ + \\theta_4 *$ [helpful votes] $ + \\theta_5 *$ [total votes])\n",
    "\n",
    "The train accuracy is 0.910707498304. The test accuracy 0.91165817011. Though the accuracy of training data decrease a little bit, the accuracy of testing data increases. This is not only because of the improved feature , but also the shuffled data. In this way we can train the model in a more general way, which will have more accuracy on testing data."
   ]
  }
 ],
 "metadata": {
  "kernelspec": {
   "display_name": "Python 3",
   "language": "python",
   "name": "python3"
  },
  "language_info": {
   "codemirror_mode": {
    "name": "ipython",
    "version": 3
   },
   "file_extension": ".py",
   "mimetype": "text/x-python",
   "name": "python",
   "nbconvert_exporter": "python",
   "pygments_lexer": "ipython3",
   "version": "3.6.7"
  }
 },
 "nbformat": 4,
 "nbformat_minor": 2
}
