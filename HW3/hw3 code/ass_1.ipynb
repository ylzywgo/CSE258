{
 "cells": [
  {
   "cell_type": "code",
   "execution_count": 1,
   "metadata": {},
   "outputs": [],
   "source": [
    "import gzip\n",
    "from collections import defaultdict\n",
    "import math\n",
    "import scipy.optimize\n",
    "from sklearn import svm\n",
    "import numpy as np\n",
    "import string\n",
    "import random\n",
    "import string\n",
    "from sklearn import linear_model"
   ]
  },
  {
   "cell_type": "code",
   "execution_count": 2,
   "metadata": {},
   "outputs": [],
   "source": [
    "def readGz(path):\n",
    "    for l in gzip.open(path, 'rt'):\n",
    "        yield eval(l)"
   ]
  },
  {
   "cell_type": "code",
   "execution_count": 3,
   "metadata": {},
   "outputs": [],
   "source": [
    "def readCSV(path):\n",
    "    f = gzip.open(path, 'rt')\n",
    "    f.readline()\n",
    "    for l in f:\n",
    "        u,b,r = l.strip().split(',')\n",
    "        r = int(r)\n",
    "        yield u,b,r"
   ]
  },
  {
   "cell_type": "code",
   "execution_count": 4,
   "metadata": {},
   "outputs": [],
   "source": [
    "allRatings = []\n",
    "for l in readCSV(\"train_Interactions.csv.gz\"):\n",
    "    allRatings.append(l)"
   ]
  },
  {
   "cell_type": "code",
   "execution_count": 113,
   "metadata": {},
   "outputs": [],
   "source": [
    "totalRead = 190000\n",
    "ratingsTrain = allRatings[:totalRead]\n",
    "ratingsValid = allRatings[totalRead:]\n",
    "ratingsPerUser = defaultdict(list)\n",
    "ratingsPerItem = defaultdict(list)\n",
    "popularity = defaultdict(int)\n",
    "for u,b,r in ratingsTrain:\n",
    "    ratingsPerUser[u].append((b,r))\n",
    "    ratingsPerItem[b].append((u,r))\n",
    "    popularity[b] += 1"
   ]
  },
  {
   "cell_type": "code",
   "execution_count": 114,
   "metadata": {},
   "outputs": [],
   "source": [
    "userSet = set()\n",
    "bookSet = set()\n",
    "readSet = set()\n",
    "\n",
    "for u,b,r in allRatings:\n",
    "    userSet.add(u)\n",
    "    bookSet.add(b)\n",
    "    readSet.add((u,b))\n",
    "\n",
    "lUserSet = list(userSet)\n",
    "lBookSet = list(bookSet)\n",
    "\n",
    "notRead = set()\n",
    "for u,b,r in ratingsValid:\n",
    "    #u = random.choice(lUserSet)\n",
    "    b = random.choice(lBookSet)\n",
    "    if (u,b) in readSet or (u,b) in notRead:\n",
    "        continue\n",
    "    notRead.add((u,b))\n",
    "    \n",
    "# count = 0\n",
    "# while count < 5000:\n",
    "#     count += 1\n",
    "#     u = random.choice(lUserSet)\n",
    "#     b = random.choice(lBookSet)\n",
    "#     while (u,b) in readSet or (u,b) in notRead:\n",
    "#         b = random.choice(lBookSet)\n",
    "#     notRead.add((u, b))\n",
    "\n",
    "readValid = set()\n",
    "for u,b,r in ratingsValid:\n",
    "    readValid.add((u,b))"
   ]
  },
  {
   "cell_type": "code",
   "execution_count": null,
   "metadata": {},
   "outputs": [],
   "source": [
    "sortedBook = sorted(popularity.items(), key=lambda x: x[1], reverse = True)"
   ]
  },
  {
   "cell_type": "code",
   "execution_count": 7,
   "metadata": {},
   "outputs": [],
   "source": [
    "def Jaccard(s1, s2):\n",
    "    numer = len(s1.intersection(s2))\n",
    "    denom = len(s1.union(s2))\n",
    "    if denom > 0:\n",
    "        return numer/denom\n",
    "    return 0"
   ]
  },
  {
   "cell_type": "code",
   "execution_count": 8,
   "metadata": {},
   "outputs": [],
   "source": [
    "def Cosine(s1, s2):\n",
    "    s1 = list(s1)\n",
    "    s2 = list(s2)\n",
    "    if (len(s1) == 0 or len(s2) == 0):\n",
    "        return 0\n",
    "    nom = 0\n",
    "    s1_book = [i[0] for i in s1]\n",
    "    s2_book = [i[0] for i in s2]\n",
    "    s1_rate = [i[1] for i in s1]\n",
    "    s2_rate = [i[1] for i in s2]\n",
    "    for b,r in s1:\n",
    "        if b in s2_book:\n",
    "            nom += s1_rate[s1_book == b] * s2_rate[s2_book == b]\n",
    "    den = np.sqrt(np.sum(np.square(s1_rate))) * np.sqrt(np.sum(np.square(s2_rate)))\n",
    "    if den != 0:\n",
    "        return nom / den\n",
    "    return 0"
   ]
  },
  {
   "cell_type": "code",
   "execution_count": 9,
   "metadata": {},
   "outputs": [],
   "source": [
    "def Perlson(s1, s2):\n",
    "    s1 = list(s1)\n",
    "    s2 = list(s2)\n",
    "    if (len(s1) == 0 or len(s2) == 0):\n",
    "        return 0\n",
    "    nom = 0\n",
    "    s1_book = [i[0] for i in s1]\n",
    "    s2_book = [i[0] for i in s2]\n",
    "    s1_rate = [i[1] for i in s1]\n",
    "    s2_rate = [i[1] for i in s2]\n",
    "    s1_avg = np.sum(s1_rate) / len(s1)\n",
    "    s2_avg = np.sum(s2_rate) / len(s2)\n",
    "    s1_rate = [i - s1_avg for i in s1_rate]\n",
    "    s1_rate = [i - s2_avg for i in s2_rate]\n",
    "    for b,r in s1:\n",
    "        if b in s2_book:\n",
    "            nom += s1_rate[s1_book == b] * s2_rate[s2_book == b]\n",
    "    den = np.sqrt(np.sum(np.square(s1_rate))) * np.sqrt(np.sum(np.square(s2_rate)))\n",
    "    if den != 0:\n",
    "        return nom / den\n",
    "    return 0"
   ]
  },
  {
   "cell_type": "code",
   "execution_count": 10,
   "metadata": {},
   "outputs": [],
   "source": [
    "def maxSimUser(u, b):\n",
    "    maxSim = 0\n",
    "    users = set(ratingsPerItem[b])\n",
    "    for b2,_ in ratingsPerUser[u]:\n",
    "        sim = Jaccard(users,set(ratingsPerItem[b2]))\n",
    "        if sim > maxSim:\n",
    "            maxSim = sim\n",
    "    return maxSim"
   ]
  },
  {
   "cell_type": "code",
   "execution_count": 11,
   "metadata": {},
   "outputs": [],
   "source": [
    "def maxSimBook(b, u):\n",
    "    maxSim = 0\n",
    "    books = set(ratingsPerUser[u])\n",
    "    for u2,_ in ratingsPerItem[b]:\n",
    "        sim = Jaccard(books,set(ratingsPerUser[u2]))\n",
    "        if sim > maxSim:\n",
    "            maxSim = sim\n",
    "    return maxSim"
   ]
  },
  {
   "cell_type": "code",
   "execution_count": 68,
   "metadata": {},
   "outputs": [],
   "source": [
    "def maxCosSimUser(u, b):\n",
    "    maxCosSim = 0\n",
    "    users = set(ratingsPerItem[b])\n",
    "    for b2,_ in ratingsPerUser[u]:\n",
    "        sim = Cosine(users,set(ratingsPerItem[b2]))\n",
    "        if sim > maxCosSim:\n",
    "            maxCosSim = sim\n",
    "    return maxCosSim"
   ]
  },
  {
   "cell_type": "code",
   "execution_count": 69,
   "metadata": {},
   "outputs": [],
   "source": [
    "def maxCosSimBook(b, u):\n",
    "    maxCosSim = 0\n",
    "    books = set(ratingsPerUser[u])\n",
    "    for u2,_ in ratingsPerItem[b]:\n",
    "        sim = Cosine(books,set(ratingsPerUser[u2]))\n",
    "        if sim > maxCosSim:\n",
    "            maxCosSim = sim\n",
    "    return maxCosSim"
   ]
  },
  {
   "cell_type": "code",
   "execution_count": 13,
   "metadata": {},
   "outputs": [],
   "source": [
    "def maxPerlSimUser(u, b):\n",
    "    maxPerlSim = 0\n",
    "    users = set(ratingsPerItem[b])\n",
    "    for b2,_ in ratingsPerUser[u]:\n",
    "        sim = Perlson(users,set(ratingsPerItem[b2]))\n",
    "        if sim > maxPerlSim:\n",
    "            maxPerlSim = sim\n",
    "    return maxPerlSim"
   ]
  },
  {
   "cell_type": "code",
   "execution_count": 15,
   "metadata": {},
   "outputs": [],
   "source": [
    "def maxPerlSimBook(b, u):\n",
    "    maxPerlSim = 0\n",
    "    books = set(ratingsPerUser[u])\n",
    "    for u2,_ in ratingsPerItem[b]:\n",
    "        sim = Perlson(books,set(ratingsPerUser[u2]))\n",
    "        if sim > maxPerlSim:\n",
    "            maxPerlSim = sim\n",
    "    return maxPerlSim"
   ]
  },
  {
   "cell_type": "code",
   "execution_count": null,
   "metadata": {
    "scrolled": false
   },
   "outputs": [],
   "source": [
    "correct = 0\n",
    "p0, p1 = 0,0\n",
    "for (label,sample) in [(1, readValid), (0, notRead)]:\n",
    "    for (u,b) in sample:\n",
    "        maxSim = maxSimCal(u, b)\n",
    "        pred = 0\n",
    "        if maxSim > 0.015 or len(ratingsPerItem[b]) > 40:\n",
    "            pred = 1\n",
    "            p1 += 1\n",
    "        else:\n",
    "            p0 += 1\n",
    "        if pred == label:\n",
    "            correct += 1"
   ]
  },
  {
   "cell_type": "code",
   "execution_count": null,
   "metadata": {
    "scrolled": true
   },
   "outputs": [],
   "source": [
    "print(correct / 10000)"
   ]
  },
  {
   "cell_type": "code",
   "execution_count": 115,
   "metadata": {},
   "outputs": [],
   "source": [
    "validData = []\n",
    "for u, b in readValid:\n",
    "    feature = []\n",
    "    popularity = len(ratingsPerItem[b]) / len(bookSet)\n",
    "    maxUser = maxSimUser(u, b)\n",
    "    maxBook = maxSimBook(b, u)\n",
    "    maxCosUser = maxCosSimUser(u, b)\n",
    "    maxCosBook = maxCosSimBook(b, u)\n",
    "    maxPerlUser = maxPerlSimUser(u, b)\n",
    "    maxPerlBook = maxPerlSimBook(b, u)\n",
    "    feature = [1, popularity, maxUser, maxBook, maxCosUser, maxCosBook, maxPerlUser, maxPerlBook]\n",
    "    validData.append([feature, 1])\n",
    "    \n",
    "for u, b in notRead:\n",
    "    feature = []\n",
    "    popularity = len(ratingsPerItem[b]) / len(bookSet)\n",
    "    maxUser = maxSimUser(u, b)\n",
    "    maxBook = maxSimBook(b, u)\n",
    "    maxCosUser = maxCosSimUser(u, b)\n",
    "    maxCosBook = maxCosSimBook(b, u)\n",
    "    maxPerlUser = maxPerlSimUser(u, b)\n",
    "    maxPerlBook = maxPerlSimBook(b, u)\n",
    "    feature = [1, popularity, maxUser, maxBook, maxCosUser, maxCosBook, maxPerlUser, maxPerlBook]\n",
    "    validData.append([feature, 0])   "
   ]
  },
  {
   "cell_type": "code",
   "execution_count": 116,
   "metadata": {},
   "outputs": [],
   "source": [
    "random.shuffle(validData)\n",
    "validX = []\n",
    "validY = []\n",
    "\n",
    "for data in validData:\n",
    "    validX.append(data[0])\n",
    "    validY.append(data[1])"
   ]
  },
  {
   "cell_type": "code",
   "execution_count": 153,
   "metadata": {},
   "outputs": [
    {
     "name": "stderr",
     "output_type": "stream",
     "text": [
      "/opt/conda/lib/python3.7/site-packages/sklearn/linear_model/logistic.py:947: ConvergenceWarning: lbfgs failed to converge. Increase the number of iterations.\n",
      "  \"of iterations.\", ConvergenceWarning)\n"
     ]
    }
   ],
   "source": [
    "clf = linear_model.LogisticRegression(C=5000,solver='lbfgs').fit(validX, validY)"
   ]
  },
  {
   "cell_type": "code",
   "execution_count": 154,
   "metadata": {},
   "outputs": [
    {
     "name": "stdout",
     "output_type": "stream",
     "text": [
      "0.6789239016081359\n"
     ]
    }
   ],
   "source": [
    "validscore = clf.score(validX, validY)\n",
    "print(validscore)"
   ]
  },
  {
   "cell_type": "code",
   "execution_count": 155,
   "metadata": {},
   "outputs": [],
   "source": [
    "predictions = open(\"predictions_Read.txt\", 'w')\n",
    "for l in open(\"pairs_Read.txt\"):\n",
    "    if l.startswith(\"userID\"):\n",
    "        predictions.write(l)\n",
    "        continue\n",
    "    u,b = l.strip().split('-')\n",
    "    pop = len(ratingsPerItem[b]) / len(bookSet)\n",
    "    maxUser = maxSimUser(u, b)\n",
    "    maxBook = maxSimBook(b, u)\n",
    "    maxCosUser = maxCosSimUser(u, b)\n",
    "    maxCosBook = maxCosSimBook(b, u)\n",
    "    maxPerlUser = maxPerlSimUser(u, b)\n",
    "    maxPerlBook = maxPerlSimBook(b, u)\n",
    "    feature = [1, pop, maxUser, maxBook, maxCosUser, maxCosBook, maxPerlUser, maxPerlBook]\n",
    "    pred = 0\n",
    "    if clf.predict([feature])[0] == 1:\n",
    "        pred = 1\n",
    "    _ = predictions.write(u + '-' + b + ',' + str(pred) + '\\n')\n",
    "\n",
    "predictions.close()"
   ]
  },
  {
   "cell_type": "code",
   "execution_count": null,
   "metadata": {},
   "outputs": [],
   "source": [
    "allRatings = []\n",
    "userRatings = defaultdict(list)\n",
    "bookRatings = defaultdict(list)\n",
    "user_book = defaultdict(list)\n",
    "book_user = defaultdict(list)\n",
    "valid = []\n",
    "\n",
    "count = 0\n",
    "\n",
    "for user,book,r in readCSV(\"train_Interactions.csv.gz\"):\n",
    "    count += 1\n",
    "    r = int(r)\n",
    "    if count <= 170000:\n",
    "        allRatings.append(r)\n",
    "        userRatings[user].append(r)\n",
    "        bookRatings[book].append(r)\n",
    "        user_book[user].append(book)\n",
    "        book_user[book].append(user)\n",
    "    else:\n",
    "        l = []\n",
    "        l.append(user)\n",
    "        l.append(book)\n",
    "        l.append(r)\n",
    "        valid.append(l)\n",
    "\n",
    "globalAverage = sum(allRatings) / len(allRatings)\n",
    "userAverage = {}\n",
    "for u in userRatings:\n",
    "    userAverage[u] = sum(userRatings[u]) / len(userRatings[u])\n",
    "userSum = {}\n",
    "for u in userRatings:\n",
    "    userSum[u] = sum(userRatings[u])\n",
    "bookSum = {}\n",
    "for b in bookRatings:\n",
    "    bookSum[b] = sum(bookRatings[b])\n",
    "    \n",
    "alpha = globalAverage\n",
    "beta_u = defaultdict(int)\n",
    "beta_b = defaultdict(int)\n",
    "lambda_ = 3"
   ]
  },
  {
   "cell_type": "code",
   "execution_count": null,
   "metadata": {},
   "outputs": [],
   "source": [
    "for u in userRatings:\n",
    "    beta_u[u] = 0\n",
    "for b in bookRatings:\n",
    "    beta_b[b] = 0\n",
    "    \n",
    "for i in range(300):\n",
    "    sum_beta_u = 0\n",
    "    sum_beta_b = 0\n",
    "#     beta_u_new = defaultdict(int)\n",
    "#     beta_b_new = defaultdict(int)\n",
    "#     for u in userRatings:\n",
    "#         beta_u_new[u] = 0\n",
    "#     for b in bookRatings:\n",
    "#         beta_b_new[b] = 0\n",
    "    for user in user_book:\n",
    "        for book in user_book[user]:\n",
    "            sum_beta_u += beta_u[user]\n",
    "            sum_beta_b += beta_b[book]\n",
    "    alpha = (sum(allRatings) - (sum_beta_b + sum_beta_u)) / 170000\n",
    "    for user in user_book:\n",
    "    #         print(userRatings[user])\n",
    "        sum_ratings_u = userSum[user]\n",
    "    #         print(sum_ratings_u)\n",
    "        numOfBook = len(userRatings[user])\n",
    "#         print(numOfBook)\n",
    "        sum_beta_b = 0\n",
    "        for book in user_book[user]:\n",
    "            sum_beta_b += beta_b[book]\n",
    "        beta_u[user] = (sum_ratings_u - alpha * numOfBook - sum_beta_b) / (lambda_ + numOfBook)\n",
    "    #         print(beta_u_new[user])\n",
    "\n",
    "    for book in book_user:\n",
    "        sum_ratings_b = bookSum[book]\n",
    "        numOfUser = len(bookRatings[book])\n",
    "#         print(numOfUser)\n",
    "        sum_beta_u = 0\n",
    "        for user in book_user[book]:\n",
    "            sum_beta_u += beta_u[user]\n",
    "        beta_b[book] = (sum_ratings_b - alpha * numOfUser - sum_beta_u) / (lambda_ + numOfUser)\n",
    "        \n",
    "#     alpha = alpha_new\n",
    "#     beta_u = beta_u_new\n",
    "#     beta_b = beta_b_new\n"
   ]
  },
  {
   "cell_type": "code",
   "execution_count": null,
   "metadata": {},
   "outputs": [],
   "source": [
    "sum_err = 0\n",
    "for i in valid:\n",
    "    predict_rating = alpha + beta_u[i[0]] + beta_b[i[1]]\n",
    "#     print(predict_rating)\n",
    "    sum_err += (predict_rating - i[2]) ** 2\n",
    "MSE = sum_err / len(valid)\n",
    "print(\"mse = \", MSE)"
   ]
  },
  {
   "cell_type": "code",
   "execution_count": null,
   "metadata": {},
   "outputs": [],
   "source": [
    "predictions = open(\"predictions_Rating.txt\", 'w')\n",
    "for l in open(\"pairs_Rating.txt\"):\n",
    "    if l.startswith(\"userID\"):\n",
    "        #header\n",
    "        predictions.write(l)\n",
    "        continue\n",
    "    u,b = l.strip().split('-')\n",
    "    if u in userRatings and b in bookRatings:\n",
    "        predict_rating = alpha + beta_u[u] + beta_b[b]\n",
    "        predictions.write(u + '-' + b + ',' + str(predict_rating) + '\\n')\n",
    "    elif u in userRatings:\n",
    "        predict_rating = alpha + beta_u[u]\n",
    "        predictions.write(u + '-' + b + ',' + str(predict_rating) + '\\n')\n",
    "    elif b in bookRatings:\n",
    "        predict_rating = alpha + beta_b[b]\n",
    "        predictions.write(u + '-' + b + ',' + str(predict_rating) + '\\n')\n",
    "    else:\n",
    "        predict_rating = alpha\n",
    "        predictions.write(u + '-' + b + ',' + str(predict_rating) + '\\n')"
   ]
  },
  {
   "cell_type": "code",
   "execution_count": null,
   "metadata": {},
   "outputs": [],
   "source": []
  }
 ],
 "metadata": {
  "kernelspec": {
   "display_name": "Python 3",
   "language": "python",
   "name": "python3"
  },
  "language_info": {
   "codemirror_mode": {
    "name": "ipython",
    "version": 3
   },
   "file_extension": ".py",
   "mimetype": "text/x-python",
   "name": "python",
   "nbconvert_exporter": "python",
   "pygments_lexer": "ipython3",
   "version": "3.7.3"
  }
 },
 "nbformat": 4,
 "nbformat_minor": 2
}
