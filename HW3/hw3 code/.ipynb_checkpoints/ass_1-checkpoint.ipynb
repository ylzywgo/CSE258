{
 "cells": [
  {
   "cell_type": "code",
   "execution_count": 1,
   "metadata": {},
   "outputs": [],
   "source": [
    "import gzip\n",
    "from collections import defaultdict\n",
    "import math\n",
    "import scipy.optimize\n",
    "from sklearn import svm\n",
    "import numpy as np\n",
    "import string\n",
    "import random\n",
    "import string\n",
    "from sklearn import linear_model"
   ]
  },
  {
   "cell_type": "code",
   "execution_count": 2,
   "metadata": {},
   "outputs": [],
   "source": [
    "def readGz(path):\n",
    "    for l in gzip.open(path, 'rt'):\n",
    "        yield eval(l)"
   ]
  },
  {
   "cell_type": "code",
   "execution_count": 3,
   "metadata": {},
   "outputs": [],
   "source": [
    "def readCSV(path):\n",
    "    f = gzip.open(path, 'rt')\n",
    "    f.readline()\n",
    "    for l in f:\n",
    "        u,b,r = l.strip().split(',')\n",
    "        r = int(r)\n",
    "        yield u,b,r"
   ]
  },
  {
   "cell_type": "code",
   "execution_count": 4,
   "metadata": {},
   "outputs": [],
   "source": [
    "allRatings = []\n",
    "for l in readCSV(\"train_Interactions.csv.gz\"):\n",
    "    allRatings.append(l)"
   ]
  },
  {
   "cell_type": "code",
   "execution_count": 205,
   "metadata": {},
   "outputs": [],
   "source": [
    "totalRead = 195000\n",
    "ratingsTrain = allRatings[:totalRead]\n",
    "ratingsValid = allRatings[totalRead:]\n",
    "ratingsPerUser = defaultdict(list)\n",
    "ratingsPerItem = defaultdict(list)\n",
    "popularity = defaultdict(int)\n",
    "for u,b,r in ratingsTrain:\n",
    "    ratingsPerUser[u].append((b,r))\n",
    "    ratingsPerItem[b].append((u,r))\n",
    "    popularity[b] += 1"
   ]
  },
  {
   "cell_type": "code",
   "execution_count": 206,
   "metadata": {},
   "outputs": [],
   "source": [
    "userSet = set()\n",
    "bookSet = set()\n",
    "readSet = set()\n",
    "\n",
    "for u,b,r in allRatings:\n",
    "    userSet.add(u)\n",
    "    bookSet.add(b)\n",
    "    readSet.add((u,b))\n",
    "\n",
    "lUserSet = list(userSet)\n",
    "lBookSet = list(bookSet)\n",
    "\n",
    "notRead = set()\n",
    "for u,b,r in ratingsValid:\n",
    "    #u = random.choice(lUserSet)\n",
    "    b = random.choice(lBookSet)\n",
    "    while (u,b) in readSet or (u,b) in notRead:\n",
    "        b = random.choice(lBookSet)\n",
    "    notRead.add((u,b))\n",
    "# count = 0\n",
    "# while count < 5000:\n",
    "#     count += 1\n",
    "#     u = random.choice(lUserSet)\n",
    "#     b = random.choice(lBookSet)\n",
    "#     while (u,b) in readSet or (u,b) in notRead:\n",
    "#         b = random.choice(lBookSet)\n",
    "#     notRead.add((u, b))\n",
    "\n",
    "readValid = set()\n",
    "for u,b,r in ratingsValid:\n",
    "    readValid.add((u,b))"
   ]
  },
  {
   "cell_type": "code",
   "execution_count": 126,
   "metadata": {},
   "outputs": [],
   "source": [
    "sortedBook = sorted(popularity.items(), key=lambda x: x[1], reverse = True)"
   ]
  },
  {
   "cell_type": "code",
   "execution_count": 127,
   "metadata": {},
   "outputs": [],
   "source": [
    "def mostPop(threshold):\n",
    "    mostpop = []\n",
    "    curRead = 0\n",
    "    for book in sortedBook:\n",
    "        curRead += book[1]\n",
    "        mostpop.append(book[0])\n",
    "        if (curRead > totalRead * threshold):\n",
    "            break\n",
    "    return mostpop"
   ]
  },
  {
   "cell_type": "code",
   "execution_count": 128,
   "metadata": {},
   "outputs": [],
   "source": [
    "def Jaccard(s1, s2):\n",
    "    numer = len(s1.intersection(s2))\n",
    "    denom = len(s1.union(s2))\n",
    "    if denom > 0:\n",
    "        return numer/denom\n",
    "    return 0"
   ]
  },
  {
   "cell_type": "code",
   "execution_count": 129,
   "metadata": {},
   "outputs": [],
   "source": [
    "def Cosine(s1, s2):\n",
    "    s1 = list(s1)\n",
    "    s2 = list(s2)\n",
    "    if (len(s1) == 0 or len(s2) == 0):\n",
    "        return 0\n",
    "    nom = 0\n",
    "    s1_book = [i[0] for i in s1]\n",
    "    s2_book = [i[0] for i in s2]\n",
    "    s1_rate = [i[1] for i in s1]\n",
    "    s2_rate = [i[1] for i in s2]\n",
    "    s1_avg = np.sum(s1_rate) / len(s1)\n",
    "    s2_avg = np.sum(s2_rate) / len(s2)\n",
    "    s1_rate = [i - s1_avg for i in s1_rate]\n",
    "    s1_rate = [i - s2_avg for i in s2_rate]\n",
    "    for b,r in s1:\n",
    "        if b in s2_book:\n",
    "            nom += r * s2_rate[s2_book == b]\n",
    "    den = np.sqrt(np.sum(np.square(s1_rate))) * np.sqrt(np.sum(np.square(s2_rate)))\n",
    "    if den > 0:\n",
    "        return nom / den\n",
    "    return 0"
   ]
  },
  {
   "cell_type": "code",
   "execution_count": 130,
   "metadata": {},
   "outputs": [],
   "source": [
    "def maxSimCal(u, b):\n",
    "    maxSim = 0\n",
    "    users = set(ratingsPerItem[b])\n",
    "    for b2,_ in ratingsPerUser[u]:\n",
    "        sim = Jaccard(users,set(ratingsPerItem[b2]))\n",
    "        if sim > maxSim:\n",
    "            maxSim = sim\n",
    "    return maxSim"
   ]
  },
  {
   "cell_type": "code",
   "execution_count": 131,
   "metadata": {},
   "outputs": [],
   "source": [
    "def maxCosSimCal(u, b):\n",
    "    maxCosSim = 0\n",
    "    users = set(ratingsPerItem[b])\n",
    "    for b2,_ in ratingsPerUser[u]:\n",
    "        sim = Cosine(users,set(ratingsPerItem[b2]))\n",
    "        if sim > maxCosSim:\n",
    "            maxCosSim = sim\n",
    "    return maxCosSim"
   ]
  },
  {
   "cell_type": "code",
   "execution_count": 132,
   "metadata": {
    "scrolled": false
   },
   "outputs": [],
   "source": [
    "correct = 0\n",
    "p0, p1 = 0,0\n",
    "for (label,sample) in [(1, readValid), (0, notRead)]:\n",
    "    for (u,b) in sample:\n",
    "        maxSim = maxSimCal(u, b)\n",
    "        pred = 0\n",
    "        if maxSim > 0.015 or len(ratingsPerItem[b]) > 40:\n",
    "            pred = 1\n",
    "            p1 += 1\n",
    "        else:\n",
    "            p0 += 1\n",
    "        if pred == label:\n",
    "            correct += 1"
   ]
  },
  {
   "cell_type": "code",
   "execution_count": 134,
   "metadata": {
    "scrolled": true
   },
   "outputs": [
    {
     "name": "stdout",
     "output_type": "stream",
     "text": [
      "0.6587\n"
     ]
    }
   ],
   "source": [
    "print(correct / 10000)"
   ]
  },
  {
   "cell_type": "code",
   "execution_count": 207,
   "metadata": {},
   "outputs": [],
   "source": [
    "validData = []\n",
    "for u, b in readValid:\n",
    "    feature = []\n",
    "    popularity = len(ratingsPerItem[b]) / len(bookSet)\n",
    "    maxSim = maxSimCal(u, b)\n",
    "    maxCosSim = maxCosSimCal(u, b)\n",
    "    feature = [1, popularity, maxSim, maxCosSim]\n",
    "    validData.append([feature, 1])\n",
    "    \n",
    "for u, b in notRead:\n",
    "    feature = []\n",
    "    popularity = len(ratingsPerItem[b]) / len(bookSet)\n",
    "    maxSim = maxSimCal(u, b)\n",
    "    maxCosSim = maxCosSimCal(u, b)\n",
    "    feature = [1, popularity, maxSim, maxCosSim]\n",
    "    validData.append([feature, 0])   "
   ]
  },
  {
   "cell_type": "code",
   "execution_count": 208,
   "metadata": {},
   "outputs": [],
   "source": [
    "random.shuffle(validData)\n",
    "validX = []\n",
    "validY = []\n",
    "\n",
    "for data in validData:\n",
    "    validX.append(data[0])\n",
    "    validY.append(data[1])"
   ]
  },
  {
   "cell_type": "code",
   "execution_count": 223,
   "metadata": {},
   "outputs": [],
   "source": [
    "clf = linear_model.LogisticRegression(C=400,solver='lbfgs').fit(validX, validY)"
   ]
  },
  {
   "cell_type": "code",
   "execution_count": 224,
   "metadata": {},
   "outputs": [
    {
     "name": "stdout",
     "output_type": "stream",
     "text": [
      "0.6929\n"
     ]
    }
   ],
   "source": [
    "validscore = clf.score(validX, validY)\n",
    "print(validscore)"
   ]
  },
  {
   "cell_type": "code",
   "execution_count": 225,
   "metadata": {},
   "outputs": [],
   "source": [
    "predictions = open(\"predictions_Read.txt\", 'w')\n",
    "for l in open(\"pairs_Read.txt\"):\n",
    "    if l.startswith(\"userID\"):\n",
    "        predictions.write(l)\n",
    "        continue\n",
    "    u,b = l.strip().split('-')\n",
    "    maxSim = maxSimCal(u, b)\n",
    "    pop = len(ratingsPerItem[b])\n",
    "    maxCosSim = maxCosSimCal(u, b)\n",
    "    feature = [1, pop / len(bookSet), maxSim, maxCosSim]\n",
    "    pred = 0\n",
    "    if clf.predict([feature])[0] == 1:\n",
    "        pred = 1\n",
    "    _ = predictions.write(u + '-' + b + ',' + str(pred) + '\\n')\n",
    "\n",
    "predictions.close()"
   ]
  },
  {
   "cell_type": "code",
   "execution_count": null,
   "metadata": {},
   "outputs": [],
   "source": []
  }
 ],
 "metadata": {
  "kernelspec": {
   "display_name": "Python 3",
   "language": "python",
   "name": "python3"
  },
  "language_info": {
   "codemirror_mode": {
    "name": "ipython",
    "version": 3
   },
   "file_extension": ".py",
   "mimetype": "text/x-python",
   "name": "python",
   "nbconvert_exporter": "python",
   "pygments_lexer": "ipython3",
   "version": "3.7.3"
  }
 },
 "nbformat": 4,
 "nbformat_minor": 2
}
