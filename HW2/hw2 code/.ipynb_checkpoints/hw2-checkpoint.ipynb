{
 "cells": [
  {
   "cell_type": "code",
   "execution_count": 1,
   "metadata": {},
   "outputs": [],
   "source": [
    "from sklearn import linear_model\n",
    "import numpy as np\n",
    "import random\n",
    "import matplotlib.pyplot as plt\n",
    "from sklearn.decomposition import PCA\n",
    "from sklearn.metrics import confusion_matrix\n",
    "from warnings import filterwarnings\n",
    "filterwarnings('ignore')"
   ]
  },
  {
   "cell_type": "code",
   "execution_count": 2,
   "metadata": {},
   "outputs": [],
   "source": [
    "f = open(\"data/5year.arff\", 'r')\n",
    "\n",
    "# Reading in data\n",
    "while not '@data' in f.readline():\n",
    "    pass\n",
    "\n",
    "dataset = []\n",
    "for l in f:\n",
    "    if '?' in l: \n",
    "        continue\n",
    "    l = l.split(',')\n",
    "    values = [1] + [float(x) for x in l]\n",
    "    values[-1] = values[-1] > 0 \n",
    "    dataset.append(values)\n",
    "\n",
    "X = [d[:-1] for d in dataset]\n",
    "y = [d[-1] for d in dataset]"
   ]
  },
  {
   "cell_type": "code",
   "execution_count": 3,
   "metadata": {
    "scrolled": true
   },
   "outputs": [
    {
     "data": {
      "text/plain": [
       "LogisticRegression(C=1.0, class_weight=None, dual=False, fit_intercept=True,\n",
       "                   intercept_scaling=1, l1_ratio=None, max_iter=100,\n",
       "                   multi_class='warn', n_jobs=None, penalty='l2',\n",
       "                   random_state=None, solver='warn', tol=0.0001, verbose=0,\n",
       "                   warm_start=False)"
      ]
     },
     "execution_count": 3,
     "metadata": {},
     "output_type": "execute_result"
    }
   ],
   "source": [
    "# Fit model\n",
    "mod = linear_model.LogisticRegression(C=1.0)\n",
    "mod.fit(X,y)"
   ]
  },
  {
   "cell_type": "code",
   "execution_count": 4,
   "metadata": {},
   "outputs": [
    {
     "name": "stdout",
     "output_type": "stream",
     "text": [
      "0.96634774002\n"
     ]
    }
   ],
   "source": [
    "pred = mod.predict(X)\n",
    "accuracy = sum(pred == y) / len(pred == y)\n",
    "print(accuracy)"
   ]
  },
  {
   "cell_type": "code",
   "execution_count": 5,
   "metadata": {},
   "outputs": [
    {
     "name": "stdout",
     "output_type": "stream",
     "text": [
      "0.485806237825\n"
     ]
    }
   ],
   "source": [
    "# True positives, false positives, etc.\n",
    "def BER(pred, y):\n",
    "    TP_ = np.logical_and(pred, y)\n",
    "    FP_ = np.logical_and(pred, np.logical_not(y))\n",
    "    TN_ = np.logical_and(np.logical_not(pred), np.logical_not(y))\n",
    "    FN_ = np.logical_and(np.logical_not(pred), y)\n",
    "\n",
    "    TP = sum(TP_)\n",
    "    FP = sum(FP_)\n",
    "    TN = sum(TN_)\n",
    "    FN = sum(FN_)\n",
    "\n",
    "    # BER\n",
    "    BER = 1 - 0.5 * (TP / (TP + FN) + TN / (TN + FP))\n",
    "    return BER\n",
    "    \n",
    "print(BER(pred, y))"
   ]
  },
  {
   "cell_type": "markdown",
   "metadata": {},
   "source": [
    "1. The accuracy of my classifier is 0.96634774002. The BER of my classifier is 0.485806237825."
   ]
  },
  {
   "cell_type": "code",
   "execution_count": 6,
   "metadata": {},
   "outputs": [],
   "source": [
    "random.shuffle(dataset)\n",
    "X = [d[:-1] for d in dataset]\n",
    "y = [d[-1] for d in dataset]"
   ]
  },
  {
   "cell_type": "code",
   "execution_count": 7,
   "metadata": {},
   "outputs": [],
   "source": [
    "n = len(dataset)\n",
    "train = dataset[0 : int(n * 0.5)]\n",
    "validate = dataset[int(n * 0.5) : int(n * 0.75)]\n",
    "test = dataset[int(n * 0.75) : ]\n",
    "\n",
    "Xtrain = [d[:-1] for d in train]\n",
    "Ytrain = [d[-1] for d in train]\n",
    "Xvalidate = [d[:-1] for d in validate]\n",
    "Yvalidate = [d[-1] for d in validate]\n",
    "Xtest = [d[:-1] for d in test]\n",
    "Ytest = [d[-1] for d in test]"
   ]
  },
  {
   "cell_type": "code",
   "execution_count": 8,
   "metadata": {},
   "outputs": [
    {
     "data": {
      "text/plain": [
       "LogisticRegression(C=1.0, class_weight='balanced', dual=False,\n",
       "                   fit_intercept=True, intercept_scaling=1, l1_ratio=None,\n",
       "                   max_iter=100, multi_class='warn', n_jobs=None, penalty='l2',\n",
       "                   random_state=None, solver='warn', tol=0.0001, verbose=0,\n",
       "                   warm_start=False)"
      ]
     },
     "execution_count": 8,
     "metadata": {},
     "output_type": "execute_result"
    }
   ],
   "source": [
    "mod = linear_model.LogisticRegression(C=1.0,class_weight='balanced')\n",
    "mod.fit(Xtrain,Ytrain)"
   ]
  },
  {
   "cell_type": "code",
   "execution_count": 9,
   "metadata": {},
   "outputs": [
    {
     "name": "stdout",
     "output_type": "stream",
     "text": [
      "The accuracy of training is 0.810561056106\n",
      "The BER of training is 0.153727851096\n",
      "The accuracy of validation is 0.765171503958\n",
      "The BER of validation is 0.282261741906\n",
      "The accuracy of test is 0.788918205805\n",
      "The BER of test is 0.172020112393\n"
     ]
    }
   ],
   "source": [
    "pred_train = mod.predict(Xtrain)\n",
    "accuracy_train = sum(pred_train == Ytrain) / len(pred_train)\n",
    "print(\"The accuracy of training is\", accuracy_train)\n",
    "print(\"The BER of training is\", BER(pred_train, Ytrain))\n",
    "\n",
    "pred_validate = mod.predict(Xvalidate)\n",
    "accuracy_validate = sum(pred_validate == Yvalidate) / len(pred_validate)\n",
    "print(\"The accuracy of validation is\", accuracy_validate)\n",
    "print(\"The BER of validation is\", BER(pred_validate, Yvalidate))\n",
    "\n",
    "pred_test = mod.predict(Xtest)\n",
    "accuracy_test = sum(pred_test == Ytest) / len(pred_test)\n",
    "print(\"The accuracy of test is\", accuracy_test)\n",
    "print(\"The BER of test is\", BER(pred_test, Ytest))"
   ]
  },
  {
   "cell_type": "markdown",
   "metadata": {},
   "source": [
    "3. The accuracy and BER of training，validation and test is shown above."
   ]
  },
  {
   "cell_type": "code",
   "execution_count": 10,
   "metadata": {},
   "outputs": [],
   "source": [
    "Crange = np.logspace(-4, 4, 9, base = 10)\n",
    "BERtrain = []\n",
    "BERvalidate = []\n",
    "BERtest = []"
   ]
  },
  {
   "cell_type": "code",
   "execution_count": 11,
   "metadata": {},
   "outputs": [],
   "source": [
    "for curC in Crange:\n",
    "    mod = linear_model.LogisticRegression(C = curC, class_weight = 'balanced')\n",
    "    mod.fit(Xtrain,Ytrain)\n",
    "    \n",
    "    pred_train = mod.predict(Xtrain)\n",
    "    BERtrain.append(BER(pred_train, Ytrain))\n",
    "\n",
    "    pred_validate = mod.predict(Xvalidate)\n",
    "    BERvalidate.append(BER(pred_validate, Yvalidate))\n",
    "\n",
    "    pred_test = mod.predict(Xtest)\n",
    "\n",
    "    BERtest.append(BER(pred_test, Ytest))"
   ]
  },
  {
   "cell_type": "code",
   "execution_count": 12,
   "metadata": {
    "scrolled": true
   },
   "outputs": [
    {
     "data": {
      "image/png": "[encoded data removed]",
      "text/plain": [
       "<Figure size 432x288 with 1 Axes>"
      ]
     },
     "metadata": {
      "needs_background": "light"
     },
     "output_type": "display_data"
    }
   ],
   "source": [
    "plt.title('BER')\n",
    "plt.plot(Crange, BERtrain, label='training')\n",
    "plt.plot(Crange, BERvalidate, label='validation')\n",
    "plt.plot(Crange, BERtest, label='test')\n",
    "plt.legend() # 显示图例\n",
    "plt.xscale('log')\n",
    "\n",
    "plt.xlabel('C')\n",
    "plt.ylabel('BER')\n",
    "plt.show()"
   ]
  },
  {
   "cell_type": "markdown",
   "metadata": {},
   "source": [
    "4. I will choose C = 10 as the BER of validation of the classifier of C = 10 are the lowest."
   ]
  },
  {
   "cell_type": "code",
   "execution_count": 23,
   "metadata": {},
   "outputs": [],
   "source": [
    "def precAndRec(pred, ytest):\n",
    "    retrieved = sum(pred)\n",
    "    relevant = sum(ytest)\n",
    "    intersection = sum([y and p for y,p in zip(ytest,pred)])\n",
    "\n",
    "    precision = intersection / retrieved\n",
    "    recall = intersection / relevant\n",
    "    return precision, recall\n",
    "\n",
    "def fBeta(precision, recall, beta):\n",
    "    return (1 + beta**2)*(precision * recall) / (beta ** 2* precision  + recall)"
   ]
  },
  {
   "cell_type": "code",
   "execution_count": 24,
   "metadata": {},
   "outputs": [],
   "source": [
    "# mod = linear_model.LogisticRegression(C=1, solver='lbfgs', class_weight = 'balance')\n",
    "# mod.fit(Xtrain, Ytrain)\n",
    "weights = [1.0] * len(Ytrain)\n",
    "mod = linear_model.LogisticRegression(C=1, solver='lbfgs')\n",
    "mod.fit(Xtrain, Ytrain, sample_weight=weights)\n",
    "predTest = mod.predict(Xtest)"
   ]
  },
  {
   "cell_type": "code",
   "execution_count": 25,
   "metadata": {},
   "outputs": [
    {
     "name": "stdout",
     "output_type": "stream",
     "text": [
      "F_1 score of unweighted classiffier is 0.142857142857\n",
      "F_10 score of unweighted classiffier is 0.0876355748373\n"
     ]
    }
   ],
   "source": [
    "precTest, recallTest = precAndRec(predTest, Ytest)\n",
    "print(\"F_1 score of unweighted classiffier is\", fBeta(precTest, recallTest, 1))\n",
    "print(\"F_10 score of unweighted classiffier is\", fBeta(precTest, recallTest, 10))"
   ]
  },
  {
   "cell_type": "code",
   "execution_count": 26,
   "metadata": {},
   "outputs": [],
   "source": [
    "def weightedY(y):\n",
    "    weights = []\n",
    "    for yy in y:\n",
    "        if yy == True:\n",
    "            weights.append(10.0)\n",
    "        else:\n",
    "            weights.append(1.0)\n",
    "    return weights"
   ]
  },
  {
   "cell_type": "code",
   "execution_count": 27,
   "metadata": {},
   "outputs": [],
   "source": [
    "weights = weightedY(Ytrain)\n",
    "mod = linear_model.LogisticRegression(C=1, solver='lbfgs')\n",
    "mod.fit(Xtrain, Ytrain, sample_weight=weights)\n",
    "predTest = mod.predict(Xtest)"
   ]
  },
  {
   "cell_type": "code",
   "execution_count": 28,
   "metadata": {},
   "outputs": [
    {
     "name": "stdout",
     "output_type": "stream",
     "text": [
      "F_1 score of weighted classiffier is 0.236842105263\n",
      "F_10 score of weighted classiffier is 0.386315342116\n"
     ]
    }
   ],
   "source": [
    "precTest, recallTest = precAndRec(predTest, Ytest)\n",
    "print(\"F_1 score of weighted classiffier is\", fBeta(precTest, recallTest, 1))\n",
    "print(\"F_10 score of weighted classiffier is\", fBeta(precTest, recallTest, 10))"
   ]
  },
  {
   "cell_type": "markdown",
   "metadata": {},
   "source": [
    "6. The result of F_1 and F_10 score of unweighted and weighted classifier is shown above. Using weighted classifier, we can shown that F_1 and F_10 score are both improved."
   ]
  },
  {
   "cell_type": "code",
   "execution_count": 29,
   "metadata": {},
   "outputs": [
    {
     "name": "stdout",
     "output_type": "stream",
     "text": [
      "[ -5.14024615e-19  -4.70716233e-09   2.32351081e-07   8.49547651e-07\n",
      "   4.32903250e-06   4.44892063e-04  -7.88401253e-07   1.36293673e-06\n",
      "   4.56849651e-06  -7.29058162e-07  -9.09471336e-08   2.22669622e-07\n",
      "   1.19383771e-06   2.56346099e-07   1.36293673e-06  -1.36691803e-04\n",
      "   9.54981556e-07   5.03693471e-06   1.36293673e-06   2.91862171e-07\n",
      "   3.02680654e-05   6.73286467e-08   2.00503820e-07   2.46031581e-07\n",
      "   4.47455472e-07   5.87107416e-07   8.44464215e-07  -2.04054145e-05\n",
      "   2.38608778e-05   3.59409921e-06  -1.01848383e-06   2.83485774e-07\n",
      "  -2.00464436e-04   2.92040506e-06  -1.66957042e-06   1.68278203e-07\n",
      "  -7.65899215e-07   4.96064749e-03  -4.52637712e-07   1.88400596e-07\n",
      "   2.33338326e-06  -6.58014658e-07   2.21932739e-07   5.12981729e-05\n",
      "   2.10307971e-05  -6.13872159e-08   3.41828975e-06   5.31348925e-05\n",
      "   2.40595021e-07   2.56164580e-07   3.58977191e-06  -6.29873868e-07\n",
      "  -5.37871245e-07   1.44341683e-06   2.37213523e-05   9.99987541e-01\n",
      "   1.94089131e-07   6.23468163e-07  -2.50642039e-07   6.12123773e-07\n",
      "  -6.57481466e-05  -5.63801511e-06  -2.00226318e-04   3.91282878e-06\n",
      "  -1.65448929e-06]\n"
     ]
    }
   ],
   "source": [
    "pca = PCA(n_components=len(Xtrain[0]))\n",
    "pca.fit(Xtrain)\n",
    "print(pca.components_[0])"
   ]
  },
  {
   "cell_type": "markdown",
   "metadata": {},
   "source": [
    "7. The first PCA component is shown above."
   ]
  },
  {
   "cell_type": "code",
   "execution_count": 30,
   "metadata": {},
   "outputs": [],
   "source": [
    "Xpca_train = np.matmul(Xtrain, pca.components_.T)\n",
    "Xpca_valid = np.matmul(Xvalidate, pca.components_.T)\n",
    "Xpca_test = np.matmul(Xtest, pca.components_.T)"
   ]
  },
  {
   "cell_type": "code",
   "execution_count": 31,
   "metadata": {},
   "outputs": [],
   "source": [
    "Nrange = np.arange(5, 35, 5)\n",
    "BERtrain = []\n",
    "BERvalidate = []\n",
    "BERtest = []\n",
    "for N in Nrange:\n",
    "    Xcur_train = [d[:N] for d in Xpca_train]\n",
    "    Xcur_valid = [d[:N] for d in Xpca_valid]\n",
    "    Xcur_test = [d[:N] for d in Xpca_test]\n",
    "    \n",
    "    mod = linear_model.LogisticRegression(C=1.0,class_weight='balanced')\n",
    "    mod.fit(Xcur_train,Ytrain)\n",
    "    \n",
    "    predTrain = mod.predict(Xcur_train)\n",
    "    predValid = mod.predict(Xcur_valid)\n",
    "    predTest = mod.predict(Xcur_test)\n",
    "    \n",
    "    BERtrain.append(BER(predTrain, Ytrain))\n",
    "    BERvalidate.append(BER(predValid, Yvalidate))\n",
    "    BERtest.append(BER(predTest, Ytest))"
   ]
  },
  {
   "cell_type": "code",
   "execution_count": 32,
   "metadata": {},
   "outputs": [
    {
     "data": {
      "image/png": "[encoded data removed]",
      "text/plain": [
       "<Figure size 432x288 with 1 Axes>"
      ]
     },
     "metadata": {
      "needs_background": "light"
     },
     "output_type": "display_data"
    }
   ],
   "source": [
    "plt.title('BER')\n",
    "plt.plot(Nrange, BERtrain, color='green', label='training')\n",
    "plt.plot(Nrange, BERvalidate, color='red', label='validation')\n",
    "plt.plot(Nrange, BERtest, color='blue', label='test')\n",
    "plt.legend() # 显示图例\n",
    "\n",
    "plt.xlabel('N')\n",
    "plt.ylabel('BER')\n",
    "plt.show()"
   ]
  },
  {
   "cell_type": "markdown",
   "metadata": {},
   "source": [
    "8. The BER of training, validation and test of different N is shown above."
   ]
  }
 ],
 "metadata": {
  "kernelspec": {
   "display_name": "Python 3",
   "language": "python",
   "name": "python3"
  },
  "language_info": {
   "codemirror_mode": {
    "name": "ipython",
    "version": 3
   },
   "file_extension": ".py",
   "mimetype": "text/x-python",
   "name": "python",
   "nbconvert_exporter": "python",
   "pygments_lexer": "ipython3",
   "version": "3.7.3"
  }
 },
 "nbformat": 4,
 "nbformat_minor": 2
}
