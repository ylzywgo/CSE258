{
 "cells": [
  {
   "cell_type": "code",
   "execution_count": 11,
   "metadata": {},
   "outputs": [],
   "source": [
    "import json\n",
    "import gzip\n",
    "import numpy as np\n",
    "import string\n",
    "import random\n",
    "import operator\n",
    "from collections import defaultdict\n",
    "from sklearn.linear_model import LogisticRegression\n",
    "# from pylmnn.lmnn import LargeMarginNearestNeighbor as LMNN\n",
    "# from pylmnn.plots import plot_comparison\n",
    "from collections import defaultdict\n",
    "import math\n",
    "import scipy.optimize\n",
    "from sklearn import svm\n",
    "\n",
    "def parseData(file):\n",
    "    for l in open(file,'r'):\n",
    "        yield json.loads(l)\n",
    "        \n",
    "def remove_punctuation(text):\n",
    "    return ''.join([c.lower() for c in text if c not in set(string.punctuation)])\n",
    "\n",
    "np.random.seed(5)"
   ]
  },
  {
   "cell_type": "code",
   "execution_count": 12,
   "metadata": {},
   "outputs": [],
   "source": [
    "data = list(parseData('./renttherunway_final_data.json'))"
   ]
  },
  {
   "cell_type": "code",
   "execution_count": 13,
   "metadata": {},
   "outputs": [
    {
     "name": "stdout",
     "output_type": "stream",
     "text": [
      "{'fit': 'fit', 'user_id': '420272', 'bust size': '34d', 'item_id': '2260466', 'weight': '137lbs', 'rating': '10', 'rented for': 'vacation', 'review_text': \"An adorable romper! Belt and zipper were a little hard to navigate in a full day of wear/bathroom use, but that's to be expected. Wish it had pockets, but other than that-- absolutely perfect! I got a million compliments.\", 'body type': 'hourglass', 'review_summary': 'So many compliments!', 'category': 'romper', 'height': '5\\' 8\"', 'size': 14, 'age': '28', 'review_date': 'April 20, 2016'}\n"
     ]
    }
   ],
   "source": [
    "print(data[0])"
   ]
  },
  {
   "cell_type": "code",
   "execution_count": 14,
   "metadata": {},
   "outputs": [],
   "source": [
    "dataNeed = []\n",
    "fit = set()\n",
    "for d in data:\n",
    "    newd = dict()\n",
    "    newd['user_id'] = d['user_id']\n",
    "    newd['item_id'] = d['item_id']\n",
    "    newd['size'] = d['size']\n",
    "    newd['fit'] = d['fit']\n",
    "    if 'rating' not in d or d['rating'] == None:\n",
    "        continue\n",
    "    newd['rating'] = (int)(d['rating']) / 2\n",
    "    if d['fit'] == None:\n",
    "        continue\n",
    "    fit.add(d['fit'])\n",
    "    dataNeed.append(newd)"
   ]
  },
  {
   "cell_type": "code",
   "execution_count": 15,
   "metadata": {},
   "outputs": [
    {
     "name": "stdout",
     "output_type": "stream",
     "text": [
      "{'user_id': '420272', 'item_id': '2260466', 'size': 14, 'fit': 'fit', 'rating': 5.0}\n"
     ]
    }
   ],
   "source": [
    "print(dataNeed[0])"
   ]
  },
  {
   "cell_type": "code",
   "execution_count": 16,
   "metadata": {},
   "outputs": [
    {
     "data": {
      "text/plain": [
       "(153969, 19246, 19247)"
      ]
     },
     "execution_count": 16,
     "metadata": {},
     "output_type": "execute_result"
    }
   ],
   "source": [
    "random.seed(1)\n",
    "random.shuffle(data)\n",
    "\n",
    "train_data = dataNeed[:int(0.8*len(dataNeed))]\n",
    "val_data = dataNeed[int(0.8*len(dataNeed)):int(0.9*len(dataNeed))]\n",
    "test_data = dataNeed[int(0.9*len(dataNeed)):]\n",
    "\n",
    "len(train_data), len(val_data), len(test_data)"
   ]
  },
  {
   "cell_type": "code",
   "execution_count": 21,
   "metadata": {},
   "outputs": [],
   "source": [
    "ratingsPerUser = defaultdict(list)\n",
    "ratingsPerItem = defaultdict(list)\n",
    "fitnessPerUser = defaultdict(list)\n",
    "fitnessPerItem = defaultdict(list)\n",
    "\n",
    "for r in train_data:\n",
    "    ratingsPerItem[r['item_id'] + '|' + str(r['size'])].append((r['user_id'], r['rating']))\n",
    "    ratingsPerUser[r['user_id']].append((r['item_id'] + '|' + str(r['size']), r['rating']))\n",
    "    if r['fit'] == 'fit':\n",
    "        fitnessPerUser[r['user_id']].append((r['item_id'] + '|' + str(r['size']), 1))\n",
    "        fitnessPerItem[r['item_id'] + '|' + str(r['size'])].append((r['user_id'], 1))\n",
    "    if not r['fit'] == 'fit':\n",
    "        fitnessPerUser[r['user_id']].append((r['item_id'] + '|' + str(r['size']), -1))\n",
    "        fitnessPerItem[r['item_id'] + '|' + str(r['size'])].append((r['user_id'], -1))"
   ]
  },
  {
   "cell_type": "code",
   "execution_count": 1,
   "metadata": {},
   "outputs": [],
   "source": [
    "def Jaccard(s1, s2):\n",
    "    numer = len(s1.intersection(s2))\n",
    "    denom = len(s1.union(s2))\n",
    "    if denom > 0:\n",
    "        return numer/denom\n",
    "    return 0"
   ]
  },
  {
   "cell_type": "code",
   "execution_count": 2,
   "metadata": {},
   "outputs": [],
   "source": [
    "def Cosine(s1, s2):\n",
    "    s1 = list(s1)\n",
    "    s2 = list(s2)\n",
    "    if (len(s1) == 0 or len(s2) == 0):\n",
    "        return 0\n",
    "    nom = 0\n",
    "    s1_book = [i[0] for i in s1]\n",
    "    s2_book = [i[0] for i in s2]\n",
    "    s1_rate = [i[1] for i in s1]\n",
    "    s2_rate = [i[1] for i in s2]\n",
    "    for b,r in s1:\n",
    "        if b in s2_book:\n",
    "            nom += s1_rate[s1_book == b] * s2_rate[s2_book == b]\n",
    "    den = np.sqrt(np.sum(np.square(s1_rate))) * np.sqrt(np.sum(np.square(s2_rate)))\n",
    "    if den != 0:\n",
    "        return nom / den\n",
    "    return 0"
   ]
  },
  {
   "cell_type": "code",
   "execution_count": 3,
   "metadata": {},
   "outputs": [],
   "source": [
    "def Perlson(s1, s2):\n",
    "    s1 = list(s1)\n",
    "    s2 = list(s2)\n",
    "    if (len(s1) == 0 or len(s2) == 0):\n",
    "        return 0\n",
    "    nom = 0\n",
    "    s1_book = [i[0] for i in s1]\n",
    "    s2_book = [i[0] for i in s2]\n",
    "    s1_rate = [i[1] for i in s1]\n",
    "    s2_rate = [i[1] for i in s2]\n",
    "    s1_avg = np.sum(s1_rate) / len(s1)\n",
    "    s2_avg = np.sum(s2_rate) / len(s2)\n",
    "    s1_rate = [i - s1_avg for i in s1_rate]\n",
    "    s1_rate = [i - s2_avg for i in s2_rate]\n",
    "    for b,r in s1:\n",
    "        if b in s2_book:\n",
    "            nom += s1_rate[s1_book == b] * s2_rate[s2_book == b]\n",
    "    den = np.sqrt(np.sum(np.square(s1_rate))) * np.sqrt(np.sum(np.square(s2_rate)))\n",
    "    if den != 0:\n",
    "        return nom / den\n",
    "    return 0"
   ]
  },
  {
   "cell_type": "code",
   "execution_count": 4,
   "metadata": {},
   "outputs": [],
   "source": [
    "def maxSimUser(u, b):\n",
    "    maxSim = 0\n",
    "    users = set(ratingsPerItem[b])\n",
    "    for b2,_ in ratingsPerUser[u]:\n",
    "        sim = Jaccard(users,set(ratingsPerItem[b2]))\n",
    "        if sim > maxSim:\n",
    "            maxSim = sim\n",
    "    return maxSim"
   ]
  },
  {
   "cell_type": "code",
   "execution_count": 5,
   "metadata": {},
   "outputs": [],
   "source": [
    "def maxSimItem(b, u):\n",
    "    maxSim = 0\n",
    "    books = set(ratingsPerUser[u])\n",
    "    for u2,_ in ratingsPerItem[b]:\n",
    "        sim = Jaccard(books,set(ratingsPerUser[u2]))\n",
    "        if sim > maxSim:\n",
    "            maxSim = sim\n",
    "    return maxSim"
   ]
  },
  {
   "cell_type": "code",
   "execution_count": 6,
   "metadata": {},
   "outputs": [],
   "source": [
    "def maxCosSimUser(u, b):\n",
    "    maxCosSim = 0\n",
    "    users = set(ratingsPerItem[b])\n",
    "    for b2,_ in ratingsPerUser[u]:\n",
    "        sim = Cosine(users,set(ratingsPerItem[b2]))\n",
    "        if sim > maxCosSim:\n",
    "            maxCosSim = sim\n",
    "    return maxCosSim"
   ]
  },
  {
   "cell_type": "code",
   "execution_count": 7,
   "metadata": {},
   "outputs": [],
   "source": [
    "def maxCosSimItem(b, u):\n",
    "    maxCosSim = 0\n",
    "    books = set(ratingsPerUser[u])\n",
    "    for u2,_ in ratingsPerItem[b]:\n",
    "        sim = Cosine(books,set(ratingsPerUser[u2]))\n",
    "        if sim > maxCosSim:\n",
    "            maxCosSim = sim\n",
    "    return maxCosSim"
   ]
  },
  {
   "cell_type": "code",
   "execution_count": 8,
   "metadata": {},
   "outputs": [],
   "source": [
    "def maxPerlSimUser(u, b):\n",
    "    maxPerlSim = 0\n",
    "    users = set(ratingsPerItem[b])\n",
    "    for b2,_ in ratingsPerUser[u]:\n",
    "        sim = Perlson(users,set(ratingsPerItem[b2]))\n",
    "        if sim > maxPerlSim:\n",
    "            maxPerlSim = sim\n",
    "    return maxPerlSim"
   ]
  },
  {
   "cell_type": "code",
   "execution_count": 9,
   "metadata": {},
   "outputs": [],
   "source": [
    "def maxPerlSimItem(b, u):\n",
    "    maxPerlSim = 0\n",
    "    books = set(ratingsPerUser[u])\n",
    "    for u2,_ in ratingsPerItem[b]:\n",
    "        sim = Perlson(books,set(ratingsPerUser[u2]))\n",
    "        if sim > maxPerlSim:\n",
    "            maxPerlSim = sim\n",
    "    return maxPerlSim"
   ]
  },
  {
   "cell_type": "code",
   "execution_count": 26,
   "metadata": {},
   "outputs": [],
   "source": [
    "validData = []\n",
    "for r in val_data:\n",
    "    u, i = r['user_id'], r['item_id']\n",
    "    maxUser = maxSimUser(u, i)\n",
    "    maxItem = maxSimBook(i, u)\n",
    "    feature = [1, maxUser, maxItem]\n",
    "    if r['fit'] == 'fit':\n",
    "        validData.append([feature, 1])\n",
    "    else:\n",
    "        validData.append([feature, 0])"
   ]
  },
  {
   "cell_type": "code",
   "execution_count": 27,
   "metadata": {},
   "outputs": [],
   "source": [
    "random.shuffle(validData)\n",
    "validX = []\n",
    "validY = []\n",
    "\n",
    "for data in validData:\n",
    "    validX.append(data[0])\n",
    "    validY.append(data[1])"
   ]
  },
  {
   "cell_type": "code",
   "execution_count": 29,
   "metadata": {},
   "outputs": [],
   "source": [
    "clf = LogisticRegression(C=1,solver='lbfgs').fit(validX, validY)"
   ]
  },
  {
   "cell_type": "code",
   "execution_count": 30,
   "metadata": {},
   "outputs": [
    {
     "name": "stdout",
     "output_type": "stream",
     "text": [
      "0.7391665800685857\n"
     ]
    }
   ],
   "source": [
    "validscore = clf.score(validX, validY)\n",
    "print(validscore)"
   ]
  },
  {
   "cell_type": "code",
   "execution_count": null,
   "metadata": {},
   "outputs": [],
   "source": []
  }
 ],
 "metadata": {
  "kernelspec": {
   "display_name": "Python 3",
   "language": "python",
   "name": "python3"
  },
  "language_info": {
   "codemirror_mode": {
    "name": "ipython",
    "version": 3
   },
   "file_extension": ".py",
   "mimetype": "text/x-python",
   "name": "python",
   "nbconvert_exporter": "python",
   "pygments_lexer": "ipython3",
   "version": "3.7.3"
  }
 },
 "nbformat": 4,
 "nbformat_minor": 2
}
